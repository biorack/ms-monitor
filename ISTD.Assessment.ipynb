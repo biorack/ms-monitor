{
 "cells": [
  {
   "cell_type": "markdown",
   "metadata": {},
   "source": [
    "#Assess and Monitor QCs, Internal Standards, and Common Metabolites\n",
    "\n",
    "##This notebook will guide people to\n",
    "* ##Identify their files\n",
    "* ##Specify the LC/MS method used\n",
    "* ##Specify the text-string used to differentiate blanks, QCs, and experimental injections\n",
    "* ##Populate the run log with the pass/fail outcome for each run\n",
    "\n",
    "##Run each block below.  They will indicate \"ok\" when completed.  Clear all output prior to starting makes it easier to tell when cells are completed."
   ]
  },
  {
   "cell_type": "markdown",
   "metadata": {},
   "source": [
    "#1. Import required packages"
   ]
  },
  {
   "cell_type": "code",
   "execution_count": null,
   "metadata": {
    "collapsed": false
   },
   "outputs": [],
   "source": [
    "import sys\n",
    "sys.path.insert(0,'/project/projectdirs/metatlas/projects/ms_monitor_tools' )\n",
    "import warnings\n",
    "warnings.filterwarnings('ignore')\n",
    "import ms_monitor_util as mtools\n",
    "%matplotlib notebook"
   ]
  },
  {
   "cell_type": "markdown",
   "metadata": {},
   "source": [
    "#2. Select your experiment. "
   ]
  },
  {
   "cell_type": "code",
   "execution_count": null,
   "metadata": {
    "collapsed": false
   },
   "outputs": [],
   "source": [
    "num_days = raw_input('How many days back to search: ')\n",
    "experiment = mtools.get_recent_experiments(num_days = int(num_days))"
   ]
  },
  {
   "cell_type": "markdown",
   "metadata": {},
   "source": [
    "#3. Get files for that experiment."
   ]
  },
  {
   "cell_type": "code",
   "execution_count": null,
   "metadata": {
    "collapsed": false
   },
   "outputs": [],
   "source": [
    "files = mtools.get_files_for_experiment(experiment.value)\n",
    "print len(files)"
   ]
  },
  {
   "cell_type": "markdown",
   "metadata": {},
   "source": [
    "#4. Get strings used in your file naming and the method you used.\n"
   ]
  },
  {
   "cell_type": "code",
   "execution_count": null,
   "metadata": {
    "collapsed": false
   },
   "outputs": [],
   "source": [
    "qc_str,blank_str,neg_str,pos_str = mtools.get_blank_qc_pos_neg_string()\n",
    "method = mtools.get_method_dropdown()"
   ]
  },
  {
   "cell_type": "markdown",
   "metadata": {},
   "source": [
    "#5. Get Data from Reference\n",
    "###You can also view the source of these references [here](https://docs.google.com/a/lbl.gov/spreadsheets/d/1SCvTvVloqkrsvT5uoCLP4gGaFO_BolptkiT3uAk_exM/edit?usp=sharing \"Title\")."
   ]
  },
  {
   "cell_type": "code",
   "execution_count": null,
   "metadata": {
    "collapsed": false
   },
   "outputs": [],
   "source": [
    "#TODO: have another sheet that creates an Atlas from the google sheet.  Get the values from teh atlas instead.\n",
    "reference_data = mtools.filter_istd_qc_by_method(method.value)\n",
    "print \"ok\""
   ]
  },
  {
   "cell_type": "markdown",
   "metadata": {},
   "source": [
    "#6. Check that you have entered everything correctly by running the next cell"
   ]
  },
  {
   "cell_type": "code",
   "execution_count": null,
   "metadata": {
    "collapsed": false
   },
   "outputs": [],
   "source": [
    "print \"Method = \",method.value\n",
    "print \"Experiment = \",experiment.value\n",
    "print len(files), \" files queued for assessment\"\n",
    "print \"filter strings are: \", qc_str.value, blank_str.value, pos_str.value, neg_str.value\n",
    "print \"parameters: \",reference_data['parameters']"
   ]
  },
  {
   "cell_type": "code",
   "execution_count": null,
   "metadata": {
    "collapsed": true
   },
   "outputs": [],
   "source": [
    "##################################################################\n",
    "##################################################################\n",
    "##### YOU SHOULD NEVER HAVE TO UNCOMMENT AND RUN THIS BLOCK ######\n",
    "# reference_data['parameters']['mz_ppm_tolerance'], reference_data['parameters']['rt_minutes_tolerance'] = mtools.get_rt_mz_tolerance_from_user()\n",
    "##### YOU SHOULD NEVER HAVE TO UNCOMMENT AND RUN THIS BLOCK ######\n",
    "##################################################################\n",
    "##################################################################"
   ]
  },
  {
   "cell_type": "markdown",
   "metadata": {},
   "source": [
    "#7. Get values and make plots and tables.  This saves an xls to your current folder."
   ]
  },
  {
   "cell_type": "code",
   "execution_count": null,
   "metadata": {
    "collapsed": false,
    "scrolled": false
   },
   "outputs": [],
   "source": [
    "mtools = reload(mtools)\n",
    "df = mtools.construct_result_table_for_files(files,qc_str,blank_str,neg_str,pos_str,method,reference_data,experiment)"
   ]
  }
 ],
 "metadata": {
  "kernelspec": {
   "display_name": "Python 2",
   "language": "python",
   "name": "python2"
  },
  "language_info": {
   "codemirror_mode": {
    "name": "ipython",
    "version": 2
   },
   "file_extension": ".py",
   "mimetype": "text/x-python",
   "name": "python",
   "nbconvert_exporter": "python",
   "pygments_lexer": "ipython2",
   "version": "2.7.10"
  }
 },
 "nbformat": 4,
 "nbformat_minor": 0
}
